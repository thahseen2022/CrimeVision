{
  "cells": [
    {
      "cell_type": "code",
      "execution_count": 1,
      "metadata": {
        "colab": {
          "base_uri": "https://localhost:8080/"
        },
        "id": "2iaJrljNtIn8",
        "outputId": "869d0b89-69a6-42fb-96f4-f00f80e267fb"
      },
      "outputs": [
        {
          "name": "stdout",
          "output_type": "stream",
          "text": [
            "Requirement already satisfied: kaggle in c:\\users\\thahs\\appdata\\local\\programs\\python\\python311\\lib\\site-packages (1.5.13)\n",
            "Requirement already satisfied: six>=1.10 in c:\\users\\thahs\\appdata\\local\\programs\\python\\python311\\lib\\site-packages (from kaggle) (1.16.0)\n",
            "Requirement already satisfied: certifi in c:\\users\\thahs\\appdata\\local\\programs\\python\\python311\\lib\\site-packages (from kaggle) (2022.12.7)\n",
            "Requirement already satisfied: python-dateutil in c:\\users\\thahs\\appdata\\local\\programs\\python\\python311\\lib\\site-packages (from kaggle) (2.8.2)\n",
            "Requirement already satisfied: requests in c:\\users\\thahs\\appdata\\local\\programs\\python\\python311\\lib\\site-packages (from kaggle) (2.28.2)\n",
            "Requirement already satisfied: tqdm in c:\\users\\thahs\\appdata\\local\\programs\\python\\python311\\lib\\site-packages (from kaggle) (4.65.0)\n",
            "Requirement already satisfied: python-slugify in c:\\users\\thahs\\appdata\\local\\programs\\python\\python311\\lib\\site-packages (from kaggle) (8.0.1)\n",
            "Requirement already satisfied: urllib3 in c:\\users\\thahs\\appdata\\local\\programs\\python\\python311\\lib\\site-packages (from kaggle) (1.26.14)\n",
            "Requirement already satisfied: text-unidecode>=1.3 in c:\\users\\thahs\\appdata\\local\\programs\\python\\python311\\lib\\site-packages (from python-slugify->kaggle) (1.3)\n",
            "Requirement already satisfied: charset-normalizer<4,>=2 in c:\\users\\thahs\\appdata\\local\\programs\\python\\python311\\lib\\site-packages (from requests->kaggle) (3.1.0)\n",
            "Requirement already satisfied: idna<4,>=2.5 in c:\\users\\thahs\\appdata\\local\\programs\\python\\python311\\lib\\site-packages (from requests->kaggle) (3.4)\n",
            "Requirement already satisfied: colorama in c:\\users\\thahs\\appdata\\local\\programs\\python\\python311\\lib\\site-packages (from tqdm->kaggle) (0.4.6)\n"
          ]
        },
        {
          "name": "stderr",
          "output_type": "stream",
          "text": [
            "\n",
            "[notice] A new release of pip is available: 23.0 -> 23.1.2\n",
            "[notice] To update, run: python.exe -m pip install --upgrade pip\n"
          ]
        },
        {
          "name": "stdout",
          "output_type": "stream",
          "text": [
            "Requirement already satisfied: IPython in c:\\users\\thahs\\appdata\\roaming\\python\\python311\\site-packages (8.11.0)\n",
            "Requirement already satisfied: backcall in c:\\users\\thahs\\appdata\\roaming\\python\\python311\\site-packages (from IPython) (0.2.0)\n",
            "Requirement already satisfied: decorator in c:\\users\\thahs\\appdata\\local\\programs\\python\\python311\\lib\\site-packages (from IPython) (5.1.1)\n",
            "Requirement already satisfied: jedi>=0.16 in c:\\users\\thahs\\appdata\\roaming\\python\\python311\\site-packages (from IPython) (0.18.2)\n",
            "Requirement already satisfied: matplotlib-inline in c:\\users\\thahs\\appdata\\roaming\\python\\python311\\site-packages (from IPython) (0.1.6)\n",
            "Requirement already satisfied: pickleshare in c:\\users\\thahs\\appdata\\roaming\\python\\python311\\site-packages (from IPython) (0.7.5)\n",
            "Requirement already satisfied: prompt-toolkit!=3.0.37,<3.1.0,>=3.0.30 in c:\\users\\thahs\\appdata\\roaming\\python\\python311\\site-packages (from IPython) (3.0.38)\n",
            "Requirement already satisfied: pygments>=2.4.0 in c:\\users\\thahs\\appdata\\local\\programs\\python\\python311\\lib\\site-packages (from IPython) (2.14.0)\n",
            "Requirement already satisfied: stack-data in c:\\users\\thahs\\appdata\\roaming\\python\\python311\\site-packages (from IPython) (0.6.2)\n",
            "Requirement already satisfied: traitlets>=5 in c:\\users\\thahs\\appdata\\roaming\\python\\python311\\site-packages (from IPython) (5.9.0)\n",
            "Requirement already satisfied: colorama in c:\\users\\thahs\\appdata\\local\\programs\\python\\python311\\lib\\site-packages (from IPython) (0.4.6)\n",
            "Requirement already satisfied: parso<0.9.0,>=0.8.0 in c:\\users\\thahs\\appdata\\roaming\\python\\python311\\site-packages (from jedi>=0.16->IPython) (0.8.3)\n",
            "Requirement already satisfied: wcwidth in c:\\users\\thahs\\appdata\\roaming\\python\\python311\\site-packages (from prompt-toolkit!=3.0.37,<3.1.0,>=3.0.30->IPython) (0.2.6)\n",
            "Requirement already satisfied: executing>=1.2.0 in c:\\users\\thahs\\appdata\\roaming\\python\\python311\\site-packages (from stack-data->IPython) (1.2.0)\n",
            "Requirement already satisfied: asttokens>=2.1.0 in c:\\users\\thahs\\appdata\\roaming\\python\\python311\\site-packages (from stack-data->IPython) (2.2.1)\n",
            "Requirement already satisfied: pure-eval in c:\\users\\thahs\\appdata\\roaming\\python\\python311\\site-packages (from stack-data->IPython) (0.2.2)\n",
            "Requirement already satisfied: six in c:\\users\\thahs\\appdata\\local\\programs\\python\\python311\\lib\\site-packages (from asttokens>=2.1.0->stack-data->IPython) (1.16.0)\n"
          ]
        },
        {
          "name": "stderr",
          "output_type": "stream",
          "text": [
            "\n",
            "[notice] A new release of pip is available: 23.0 -> 23.1.2\n",
            "[notice] To update, run: python.exe -m pip install --upgrade pip\n"
          ]
        },
        {
          "name": "stdout",
          "output_type": "stream",
          "text": [
            "Requirement already satisfied: seaborn in c:\\users\\thahs\\appdata\\local\\programs\\python\\python311\\lib\\site-packages (0.12.2)\n",
            "Requirement already satisfied: numpy!=1.24.0,>=1.17 in c:\\users\\thahs\\appdata\\local\\programs\\python\\python311\\lib\\site-packages (from seaborn) (1.23.5)\n",
            "Requirement already satisfied: pandas>=0.25 in c:\\users\\thahs\\appdata\\local\\programs\\python\\python311\\lib\\site-packages (from seaborn) (1.5.3)\n",
            "Requirement already satisfied: matplotlib!=3.6.1,>=3.1 in c:\\users\\thahs\\appdata\\local\\programs\\python\\python311\\lib\\site-packages (from seaborn) (3.7.1)\n",
            "Requirement already satisfied: contourpy>=1.0.1 in c:\\users\\thahs\\appdata\\local\\programs\\python\\python311\\lib\\site-packages (from matplotlib!=3.6.1,>=3.1->seaborn) (1.0.7)\n",
            "Requirement already satisfied: cycler>=0.10 in c:\\users\\thahs\\appdata\\local\\programs\\python\\python311\\lib\\site-packages (from matplotlib!=3.6.1,>=3.1->seaborn) (0.11.0)\n",
            "Requirement already satisfied: fonttools>=4.22.0 in c:\\users\\thahs\\appdata\\local\\programs\\python\\python311\\lib\\site-packages (from matplotlib!=3.6.1,>=3.1->seaborn) (4.39.0)\n",
            "Requirement already satisfied: kiwisolver>=1.0.1 in c:\\users\\thahs\\appdata\\local\\programs\\python\\python311\\lib\\site-packages (from matplotlib!=3.6.1,>=3.1->seaborn) (1.4.4)\n",
            "Requirement already satisfied: packaging>=20.0 in c:\\users\\thahs\\appdata\\local\\programs\\python\\python311\\lib\\site-packages (from matplotlib!=3.6.1,>=3.1->seaborn) (23.0)\n",
            "Requirement already satisfied: pillow>=6.2.0 in c:\\users\\thahs\\appdata\\local\\programs\\python\\python311\\lib\\site-packages (from matplotlib!=3.6.1,>=3.1->seaborn) (9.4.0)\n",
            "Requirement already satisfied: pyparsing>=2.3.1 in c:\\users\\thahs\\appdata\\local\\programs\\python\\python311\\lib\\site-packages (from matplotlib!=3.6.1,>=3.1->seaborn) (3.0.9)\n",
            "Requirement already satisfied: python-dateutil>=2.7 in c:\\users\\thahs\\appdata\\local\\programs\\python\\python311\\lib\\site-packages (from matplotlib!=3.6.1,>=3.1->seaborn) (2.8.2)\n",
            "Requirement already satisfied: pytz>=2020.1 in c:\\users\\thahs\\appdata\\local\\programs\\python\\python311\\lib\\site-packages (from pandas>=0.25->seaborn) (2022.7.1)\n",
            "Requirement already satisfied: six>=1.5 in c:\\users\\thahs\\appdata\\local\\programs\\python\\python311\\lib\\site-packages (from python-dateutil>=2.7->matplotlib!=3.6.1,>=3.1->seaborn) (1.16.0)\n"
          ]
        },
        {
          "name": "stderr",
          "output_type": "stream",
          "text": [
            "\n",
            "[notice] A new release of pip is available: 23.0 -> 23.1.2\n",
            "[notice] To update, run: python.exe -m pip install --upgrade pip\n"
          ]
        },
        {
          "name": "stdout",
          "output_type": "stream",
          "text": [
            "Requirement already satisfied: plotly in c:\\users\\thahs\\appdata\\local\\programs\\python\\python311\\lib\\site-packages (5.14.1)\n",
            "Requirement already satisfied: tenacity>=6.2.0 in c:\\users\\thahs\\appdata\\local\\programs\\python\\python311\\lib\\site-packages (from plotly) (8.2.2)\n",
            "Requirement already satisfied: packaging in c:\\users\\thahs\\appdata\\local\\programs\\python\\python311\\lib\\site-packages (from plotly) (23.0)\n"
          ]
        },
        {
          "name": "stderr",
          "output_type": "stream",
          "text": [
            "\n",
            "[notice] A new release of pip is available: 23.0 -> 23.1.2\n",
            "[notice] To update, run: python.exe -m pip install --upgrade pip\n"
          ]
        },
        {
          "name": "stdout",
          "output_type": "stream",
          "text": [
            "Requirement already satisfied: scikit-learn in c:\\users\\thahs\\appdata\\local\\programs\\python\\python311\\lib\\site-packages (1.2.2)"
          ]
        },
        {
          "name": "stderr",
          "output_type": "stream",
          "text": [
            "\n",
            "[notice] A new release of pip is available: 23.0 -> 23.1.2\n",
            "[notice] To update, run: python.exe -m pip install --upgrade pip\n"
          ]
        },
        {
          "name": "stdout",
          "output_type": "stream",
          "text": [
            "\n",
            "Requirement already satisfied: scipy in c:\\users\\thahs\\appdata\\local\\programs\\python\\python311\\lib\\site-packages (1.10.1)\n",
            "Requirement already satisfied: matplotlib in c:\\users\\thahs\\appdata\\local\\programs\\python\\python311\\lib\\site-packages (3.7.1)\n",
            "Requirement already satisfied: numpy>=1.17.3 in c:\\users\\thahs\\appdata\\local\\programs\\python\\python311\\lib\\site-packages (from scikit-learn) (1.23.5)\n",
            "Requirement already satisfied: joblib>=1.1.1 in c:\\users\\thahs\\appdata\\local\\programs\\python\\python311\\lib\\site-packages (from scikit-learn) (1.2.0)\n",
            "Requirement already satisfied: threadpoolctl>=2.0.0 in c:\\users\\thahs\\appdata\\local\\programs\\python\\python311\\lib\\site-packages (from scikit-learn) (3.1.0)\n",
            "Requirement already satisfied: contourpy>=1.0.1 in c:\\users\\thahs\\appdata\\local\\programs\\python\\python311\\lib\\site-packages (from matplotlib) (1.0.7)\n",
            "Requirement already satisfied: cycler>=0.10 in c:\\users\\thahs\\appdata\\local\\programs\\python\\python311\\lib\\site-packages (from matplotlib) (0.11.0)\n",
            "Requirement already satisfied: fonttools>=4.22.0 in c:\\users\\thahs\\appdata\\local\\programs\\python\\python311\\lib\\site-packages (from matplotlib) (4.39.0)\n",
            "Requirement already satisfied: kiwisolver>=1.0.1 in c:\\users\\thahs\\appdata\\local\\programs\\python\\python311\\lib\\site-packages (from matplotlib) (1.4.4)\n",
            "Requirement already satisfied: packaging>=20.0 in c:\\users\\thahs\\appdata\\local\\programs\\python\\python311\\lib\\site-packages (from matplotlib) (23.0)\n",
            "Requirement already satisfied: pillow>=6.2.0 in c:\\users\\thahs\\appdata\\local\\programs\\python\\python311\\lib\\site-packages (from matplotlib) (9.4.0)\n",
            "Requirement already satisfied: pyparsing>=2.3.1 in c:\\users\\thahs\\appdata\\local\\programs\\python\\python311\\lib\\site-packages (from matplotlib) (3.0.9)\n",
            "Requirement already satisfied: python-dateutil>=2.7 in c:\\users\\thahs\\appdata\\local\\programs\\python\\python311\\lib\\site-packages (from matplotlib) (2.8.2)\n",
            "Requirement already satisfied: six>=1.5 in c:\\users\\thahs\\appdata\\local\\programs\\python\\python311\\lib\\site-packages (from python-dateutil>=2.7->matplotlib) (1.16.0)\n",
            "Requirement already satisfied: keras in c:\\users\\thahs\\appdata\\local\\programs\\python\\python311\\lib\\site-packages (2.12.0rc1)\n"
          ]
        },
        {
          "name": "stderr",
          "output_type": "stream",
          "text": [
            "\n",
            "[notice] A new release of pip is available: 23.0 -> 23.1.2\n",
            "[notice] To update, run: python.exe -m pip install --upgrade pip\n"
          ]
        }
      ],
      "source": [
        "!pip install kaggle\n",
        "!pip install IPython\n",
        "!pip install seaborn\n",
        "!pip install plotly\n",
        "!pip install -U scikit-learn scipy matplotlib\n",
        "!pip install keras"
      ]
    },
    {
      "cell_type": "code",
      "execution_count": 2,
      "metadata": {
        "colab": {
          "base_uri": "https://localhost:8080/"
        },
        "id": "H1mcqL2M2ydD",
        "outputId": "3481a81a-be0b-4397-d9d1-ba8c8aba3d49"
      },
      "outputs": [
        {
          "name": "stderr",
          "output_type": "stream",
          "text": [
            "The syntax of the command is incorrect.\n"
          ]
        }
      ],
      "source": [
        "! mkdir ~/.kaggle"
      ]
    },
    {
      "cell_type": "code",
      "execution_count": 3,
      "metadata": {
        "id": "RSqqDnHr2z4Z"
      },
      "outputs": [
        {
          "name": "stderr",
          "output_type": "stream",
          "text": [
            "'cp' is not recognized as an internal or external command,\n",
            "operable program or batch file.\n"
          ]
        }
      ],
      "source": [
        "!cp /content/kaggle.json ~/.kaggle/"
      ]
    },
    {
      "cell_type": "code",
      "execution_count": 4,
      "metadata": {
        "id": "GAzHkyX822dC"
      },
      "outputs": [
        {
          "name": "stderr",
          "output_type": "stream",
          "text": [
            "'chmod' is not recognized as an internal or external command,\n",
            "operable program or batch file.\n"
          ]
        }
      ],
      "source": [
        "! chmod 600 ~/.kaggle/kaggle.json\n"
      ]
    },
    {
      "cell_type": "code",
      "execution_count": 5,
      "metadata": {
        "colab": {
          "base_uri": "https://localhost:8080/"
        },
        "id": "BkTPEZXR3Mto",
        "outputId": "f89647ce-e460-49ac-8d76-25fa30830aa3"
      },
      "outputs": [
        {
          "name": "stderr",
          "output_type": "stream",
          "text": [
            "Traceback (most recent call last):\n",
            "  File \"<frozen runpy>\", line 198, in _run_module_as_main\n",
            "  File \"<frozen runpy>\", line 88, in _run_code\n",
            "  File \"C:\\Users\\thahs\\AppData\\Local\\Programs\\Python\\Python311\\Scripts\\kaggle.exe\\__main__.py\", line 4, in <module>\n",
            "  File \"C:\\Users\\thahs\\AppData\\Local\\Programs\\Python\\Python311\\Lib\\site-packages\\kaggle\\__init__.py\", line 23, in <module>\n",
            "    api.authenticate()\n",
            "  File \"C:\\Users\\thahs\\AppData\\Local\\Programs\\Python\\Python311\\Lib\\site-packages\\kaggle\\api\\kaggle_api_extended.py\", line 164, in authenticate\n",
            "    raise IOError('Could not find {}. Make sure it\\'s located in'\n",
            "OSError: Could not find kaggle.json. Make sure it's located in C:\\Users\\thahs\\.kaggle. Or use the environment method.\n"
          ]
        }
      ],
      "source": [
        "! kaggle datasets download -d odins0n/ucf-crime-dataset"
      ]
    },
    {
      "cell_type": "code",
      "execution_count": 6,
      "metadata": {
        "id": "_v-_x3aY5e1x"
      },
      "outputs": [],
      "source": [
        "import pandas as pd\n",
        "import numpy as np\n",
        "import matplotlib.pyplot as plt\n",
        "import seaborn as sns\n",
        "import plotly.express as px\n",
        "import os\n",
        "\n",
        "import tensorflow as tf\n",
        "from tensorflow.keras.preprocessing import image_dataset_from_directory\n",
        "from tensorflow.keras.applications import DenseNet121\n",
        "from sklearn.preprocessing import LabelBinarizer\n",
        "from tensorflow.keras.layers import Dense, GlobalAveragePooling2D, Dropout,MaxPooling2D , Conv2D,Flatten\n",
        "from tensorflow.keras.models import Sequential\n",
        "\n",
        "from IPython.display import clear_output\n",
        "import warnings\n",
        "warnings.filterwarnings('ignore')  "
      ]
    },
    {
      "cell_type": "code",
      "execution_count": 7,
      "metadata": {
        "colab": {
          "base_uri": "https://localhost:8080/"
        },
        "id": "B2qlC2r7cNcR",
        "outputId": "45839349-548c-42a2-9771-a3af5122a9f0"
      },
      "outputs": [
        {
          "name": "stderr",
          "output_type": "stream",
          "text": [
            "'unzip' is not recognized as an internal or external command,\n",
            "operable program or batch file.\n"
          ]
        }
      ],
      "source": [
        "! unzip ucf-crime-dataset.zip"
      ]
    },
    {
      "cell_type": "code",
      "execution_count": 8,
      "metadata": {
        "id": "rRXngtgx48R5"
      },
      "outputs": [],
      "source": [
        "train_dir=\"/content/Train\"\n",
        "test_dir=\"/content/Test\"\n",
        "\n",
        "SEED = 12\n",
        "IMG_HEIGHT = 64\n",
        "IMG_WIDTH = 64\n",
        "BATCH_SIZE = 128\n",
        "EPOCHS = 5\n",
        "LR = 0.00003"
      ]
    },
    {
      "cell_type": "code",
      "execution_count": 9,
      "metadata": {
        "colab": {
          "base_uri": "https://localhost:8080/"
        },
        "id": "B_d3KCwq-mSG",
        "outputId": "c0948184-96c3-480a-c641-54b9b576f620"
      },
      "outputs": [
        {
          "ename": "FileNotFoundError",
          "evalue": "[WinError 3] The system cannot find the path specified: '/content/Train'",
          "output_type": "error",
          "traceback": [
            "\u001b[1;31m---------------------------------------------------------------------------\u001b[0m",
            "\u001b[1;31mFileNotFoundError\u001b[0m                         Traceback (most recent call last)",
            "Cell \u001b[1;32mIn[9], line 1\u001b[0m\n\u001b[1;32m----> 1\u001b[0m crime_types\u001b[39m=\u001b[39mos\u001b[39m.\u001b[39;49mlistdir(train_dir)\n\u001b[0;32m      2\u001b[0m n\u001b[39m=\u001b[39m\u001b[39mlen\u001b[39m(crime_types)\n\u001b[0;32m      3\u001b[0m \u001b[39mprint\u001b[39m(\u001b[39m\"\u001b[39m\u001b[39mNumber of Crime Categories : \u001b[39m\u001b[39m\"\u001b[39m,n)\n",
            "\u001b[1;31mFileNotFoundError\u001b[0m: [WinError 3] The system cannot find the path specified: '/content/Train'"
          ]
        }
      ],
      "source": [
        "crime_types=os.listdir(train_dir)\n",
        "n=len(crime_types)\n",
        "print(\"Number of Crime Categories : \",n)"
      ]
    },
    {
      "cell_type": "code",
      "execution_count": null,
      "metadata": {
        "id": "vyyXlaeIIMYS"
      },
      "outputs": [],
      "source": [
        "crimes={}\n",
        "train=test=0\n",
        "for clss in crime_types:\n",
        "  num=len(os.listdir(os.path.join(train_dir,clss)))\n",
        "  train+=num\n",
        "  test+=len(os.listdir(os.path.join(test_dir,clss)))\n",
        "\n",
        "  crimes[clss]=num"
      ]
    },
    {
      "cell_type": "code",
      "execution_count": null,
      "metadata": {
        "colab": {
          "base_uri": "https://localhost:8080/",
          "height": 449
        },
        "id": "sJIjSxHFI53r",
        "outputId": "e7568e75-b722-4fb8-dd24-2e089cc40647"
      },
      "outputs": [
        {
          "data": {
            "image/png": "[encoded data removed]",
            "text/plain": [
              "<Figure size 800x500 with 1 Axes>"
            ]
          },
          "metadata": {},
          "output_type": "display_data"
        }
      ],
      "source": [
        "plt.figure(figsize=(8,5))\n",
        "plt.pie(x=np.array([train,test]),autopct=\"%.1f%%\", explode=[0.1,0.1], labels=[\"Training Data\", \"Test Data\"], pctdistance=0.5, colors=['yellow','green'])\n",
        "plt.title(\"Train and Test Images\", fontsize=18);"
      ]
    },
    {
      "cell_type": "code",
      "execution_count": null,
      "metadata": {
        "colab": {
          "base_uri": "https://localhost:8080/",
          "height": 284
        },
        "id": "h-UidzM8Jn57",
        "outputId": "c500ae6b-005a-45cb-893b-37ba9323fbb5"
      },
      "outputs": [
        {
          "data": {
            "image/png": "[encoded data removed]",
            "text/plain": [
              "<Figure size 1500x500 with 1 Axes>"
            ]
          },
          "metadata": {},
          "output_type": "display_data"
        }
      ],
      "source": [
        "plt.figure(figsize=(15,5))\n",
        "plt.bar(list(crimes.keys()),list(crimes.values()),width=0.4, align=\"center\", edgecolor=['red'], color=['orange'])\n",
        "plt.xticks(rotation=90)\n",
        "\n",
        "plt.xlabel(\"Reported Crimes\")\n",
        "plt.ylabel(\"Number of Reported Crimes\")\n",
        "plt.show()"
      ]
    },
    {
      "cell_type": "code",
      "execution_count": null,
      "metadata": {
        "id": "fipp07cp-YcF"
      },
      "outputs": [],
      "source": [
        "IMG_SHAPE=(IMG_WIDTH,IMG_HEIGHT)"
      ]
    },
    {
      "cell_type": "code",
      "execution_count": null,
      "metadata": {
        "colab": {
          "base_uri": "https://localhost:8080/"
        },
        "id": "SDyzSFlRK1F2",
        "outputId": "fb3d7d81-2ac1-49ad-c9ed-7b3d376e97e7"
      },
      "outputs": [
        {
          "name": "stdout",
          "output_type": "stream",
          "text": [
            "Found 1266345 files belonging to 14 classes.\n",
            "Using 1013076 files for training.\n"
          ]
        }
      ],
      "source": [
        "train_set=image_dataset_from_directory(\n",
        "    train_dir,\n",
        "    label_mode=\"categorical\",\n",
        "    batch_size=BATCH_SIZE,\n",
        "    image_size=IMG_SHAPE,\n",
        "    shuffle=True,\n",
        "    seed=SEED,\n",
        "    validation_split=0.2,\n",
        "    subset=\"training\"\n",
        ")"
      ]
    },
    {
      "cell_type": "code",
      "execution_count": null,
      "metadata": {
        "colab": {
          "base_uri": "https://localhost:8080/"
        },
        "id": "raB1Jmktir76",
        "outputId": "7a3ab089-ea83-439f-e39c-e712fff9065e"
      },
      "outputs": [
        {
          "name": "stdout",
          "output_type": "stream",
          "text": [
            "Found 1266345 files belonging to 14 classes.\n",
            "Using 253269 files for validation.\n"
          ]
        }
      ],
      "source": [
        "val_set=image_dataset_from_directory( \n",
        "    train_dir,\n",
        "    label_mode=\"categorical\",\n",
        "    batch_size=BATCH_SIZE, \n",
        "    image_size=IMG_SHAPE, \n",
        "    shuffle=True, \n",
        "    seed=SEED, \n",
        "    validation_split=0.2, \n",
        "    subset=\"validation\"\n",
        ")"
      ]
    },
    {
      "cell_type": "code",
      "execution_count": null,
      "metadata": {
        "colab": {
          "base_uri": "https://localhost:8080/"
        },
        "id": "Qqb5HzQJj2sy",
        "outputId": "58990b85-cb2d-483e-c4ee-d1c509bc0195"
      },
      "outputs": [
        {
          "name": "stdout",
          "output_type": "stream",
          "text": [
            "Found 111308 files belonging to 14 classes.\n"
          ]
        }
      ],
      "source": [
        "test_set=image_dataset_from_directory(\n",
        "     test_dir,\n",
        "     label_mode=\"categorical\",\n",
        "     image_size=IMG_SHAPE,\n",
        "     shuffle=False,\n",
        "     class_names=None,\n",
        "     batch_size=BATCH_SIZE,\n",
        "     seed=SEED\n",
        ")"
      ]
    },
    {
      "cell_type": "code",
      "execution_count": null,
      "metadata": {
        "id": "9vHdSRQ-YGJQ"
      },
      "outputs": [],
      "source": [
        "INPUT_SHAPE=(64,64,3)"
      ]
    },
    {
      "cell_type": "code",
      "execution_count": null,
      "metadata": {
        "id": "IVc3k8DFkG63"
      },
      "outputs": [],
      "source": [
        "def transfer_learning():\n",
        "  base_model=DenseNet121(include_top=False,\n",
        "                         input_shape=INPUT_SHAPE,\n",
        "                         weights=\"imagenet\")\n",
        "\n",
        "  thr=14\n",
        "  \n",
        "  for layers in base_model.layers[:thr]:\n",
        "    layers.trainable=False\n",
        "  for layers in base_model.layers[thr:]: \n",
        "    layers.trainable=False\n",
        "\n",
        "    return base_model"
      ]
    },
    {
      "cell_type": "code",
      "execution_count": null,
      "metadata": {
        "id": "7n3f4b4pCgIw"
      },
      "outputs": [],
      "source": [
        "def create_model(): \n",
        "  model=Sequential()\n",
        "\n",
        "  base_model=transfer_learning() \n",
        "  model.add(base_model)\n",
        "\n",
        "  model.add(GlobalAveragePooling2D())\n",
        "  \n",
        "  model.add(Dense (256, activation=\"relu\")) \n",
        "  model.add(Dropout (0.2))\n",
        "\n",
        "  model.add(Dense (512, activation=\"relu\")) \n",
        "  model.add(Dropout (0.2))\n",
        "\n",
        "  model.add(Dense (1024, activation=\"relu\"))\n",
        "\n",
        "  model.add(Dense (n, activation=\"softmax\"))\n",
        "  \n",
        "  model.summary()\n",
        "  return model"
      ]
    },
    {
      "cell_type": "code",
      "execution_count": null,
      "metadata": {
        "colab": {
          "base_uri": "https://localhost:8080/"
        },
        "id": "zTliej29NJFt",
        "outputId": "2dd4cc44-ad88-4afc-9330-fa17ae6de95a"
      },
      "outputs": [
        {
          "name": "stdout",
          "output_type": "stream",
          "text": [
            "Downloading data from https://storage.googleapis.com/tensorflow/keras-applications/densenet/densenet121_weights_tf_dim_ordering_tf_kernels_notop.h5\n",
            "29084464/29084464 [==============================] - 0s 0us/step\n",
            "Model: \"sequential\"\n",
            "_________________________________________________________________\n",
            " Layer (type)                Output Shape              Param #   \n",
            "=================================================================\n",
            " densenet121 (Functional)    (None, 2, 2, 1024)        7037504   \n",
            "                                                                 \n",
            " global_average_pooling2d (G  (None, 1024)             0         \n",
            " lobalAveragePooling2D)                                          \n",
            "                                                                 \n",
            " dense (Dense)               (None, 256)               262400    \n",
            "                                                                 \n",
            " dropout (Dropout)           (None, 256)               0         \n",
            "                                                                 \n",
            " dense_1 (Dense)             (None, 512)               131584    \n",
            "                                                                 \n",
            " dropout_1 (Dropout)         (None, 512)               0         \n",
            "                                                                 \n",
            " dense_2 (Dense)             (None, 1024)              525312    \n",
            "                                                                 \n",
            " dense_3 (Dense)             (None, 14)                14350     \n",
            "                                                                 \n",
            "=================================================================\n",
            "Total params: 7,971,150\n",
            "Trainable params: 7,832,334\n",
            "Non-trainable params: 138,816\n",
            "_________________________________________________________________\n"
          ]
        }
      ],
      "source": [
        "model=create_model()\n",
        "\n",
        "model.compile(optimizer=\"adam\",\n",
        "            loss='categorical_crossentropy',\n",
        "            metrics = ['accuracy'])"
      ]
    },
    {
      "cell_type": "code",
      "execution_count": 10,
      "metadata": {
        "colab": {
          "base_uri": "https://localhost:8080/"
        },
        "id": "DEb8t_poNJFt",
        "outputId": "e78769cf-ecec-4bc4-d2e6-de57730c936a"
      },
      "outputs": [
        {
          "ename": "NameError",
          "evalue": "name 'model' is not defined",
          "output_type": "error",
          "traceback": [
            "\u001b[1;31m---------------------------------------------------------------------------\u001b[0m",
            "\u001b[1;31mNameError\u001b[0m                                 Traceback (most recent call last)",
            "Cell \u001b[1;32mIn[10], line 1\u001b[0m\n\u001b[1;32m----> 1\u001b[0m history \u001b[39m=\u001b[39m model\u001b[39m.\u001b[39mfit(x\u001b[39m=\u001b[39mtrain_set,validation_data\u001b[39m=\u001b[39mval_set, epochs\u001b[39m=\u001b[39mEPOCHS)\n",
            "\u001b[1;31mNameError\u001b[0m: name 'model' is not defined"
          ]
        }
      ],
      "source": [
        "history = model.fit(x=train_set,validation_data=val_set, epochs=EPOCHS)"
      ]
    },
    {
      "cell_type": "code",
      "execution_count": null,
      "metadata": {
        "id": "KcwkjzjyN_y8"
      },
      "outputs": [],
      "source": [
        "model.save('crime.h5')"
      ]
    }
  ],
  "metadata": {
    "colab": {
      "provenance": []
    },
    "kernelspec": {
      "display_name": "Python 3",
      "name": "python3"
    },
    "language_info": {
      "codemirror_mode": {
        "name": "ipython",
        "version": 3
      },
      "file_extension": ".py",
      "mimetype": "text/x-python",
      "name": "python",
      "nbconvert_exporter": "python",
      "pygments_lexer": "ipython3",
      "version": "3.11.2"
    }
  },
  "nbformat": 4,
  "nbformat_minor": 0
}
