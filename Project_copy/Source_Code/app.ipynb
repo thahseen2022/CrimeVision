{
  "cells": [
    {
      "cell_type": "code",
      "execution_count": 15,
      "metadata": {
        "id": "1QLypLUaR481"
      },
      "outputs": [],
      "source": [
        "import re\n",
        "import numpy as np\n",
        "import pandas as pd\n",
        "import os\n",
        "import tensorflow as tf\n",
        "from flask import Flask, app, request, render_template\n",
        "from tensorflow.keras import models\n",
        "from tensorflow.keras.preprocessing import image\n",
        "from tensorflow.python.ops.gen_array_ops import concat\n",
        "from tensorflow.keras.models import load_model\n",
        "from werkzeug.utils import secure_filename\n",
        "from flask import Flask, request\n",
        "from google.colab import files"
      ]
    },
    {
      "cell_type": "code",
      "execution_count": 16,
      "metadata": {
        "id": "0gI2vkgJTzRv"
      },
      "outputs": [],
      "source": [
        "model=load_model(r\"crime.h5\",compile=False)\n",
        "app=Flask(__name__)"
      ]
    },
    {
      "cell_type": "code",
      "execution_count": 17,
      "metadata": {
        "id": "HWZBu9lNULzH"
      },
      "outputs": [],
      "source": [
        "@app.route('/')\n",
        "def home():\n",
        "  return render_template('home.html')\n",
        "@app.route('/prediction')\n",
        "def prediction():\n",
        "  return render_template('predict.html')"
      ]
    },
    {
      "cell_type": "code",
      "execution_count": 18,
      "metadata": {
        "id": "RmV4ocIkVF_l"
      },
      "outputs": [],
      "source": [
        "@app.route('/predict', methods=['POST'])\n",
        "def predict():\n",
        "  if request.method=='POST':\n",
        "\n",
        "      # Get the file from post request\n",
        "      f = request.files['image']\n",
        "      #Save the file to ./uploads\n",
        "      basepath = os.path.dirname('upload.php')\n",
        "      file_path = os.path.join(basepath, 'uploads', secure_filename(f.filename))\n",
        "      f.save(file_path)\n",
        "      img = image.load_img(file_path, target_size=(64, 64))\n",
        "      x = image.img_to_array(img) # Converting image into array\n",
        "      x = np.expand_dims(x,axis=0) # expanding Dimensions\n",
        "      pred = np.argmax(model.predict(x)) # Predicting the higher probablity index\n",
        "      op = ['Abuse','Arrest','Arson','Assault','Burglary','Explosion','Fighting','Normal Videos','RoadAccidents','Robbery','Shooting','Shoplifting', 'Stealing','Vandalism']\n",
        "      op[pred]\n",
        "      result=op[pred]\n",
        "      result='The predicted output is {}'.format(str(result))\n",
        "      print(result)\n",
        "  return render_template('predict.html',text=result)"
      ]
    },
    {
      "cell_type": "code",
      "execution_count": 19,
      "metadata": {
        "colab": {
          "base_uri": "https://localhost:8080/"
        },
        "id": "v7oPhEL8Wdn7",
        "outputId": "fa8b4313-cd22-4738-ff55-8e5839c6f630"
      },
      "outputs": [
        {
          "metadata": {
            "tags": null
          },
          "name": "stdout",
          "output_type": "stream",
          "text": [
            " * Serving Flask app '__main__'\n",
            " * Debug mode: off\n"
          ]
        },
        {
          "metadata": {
            "tags": null
          },
          "name": "stderr",
          "output_type": "stream",
          "text": [
            "INFO:werkzeug:\u001b[31m\u001b[1mWARNING: This is a development server. Do not use it in a production deployment. Use a production WSGI server instead.\u001b[0m\n",
            " * Running on http://127.0.0.1:5000\n",
            "INFO:werkzeug:\u001b[33mPress CTRL+C to quit\u001b[0m\n"
          ]
        }
      ],
      "source": [
        "if __name__==\"__main__\":\n",
        "  app.run()"
      ]
    }
  ],
  "metadata": {
    "colab": {
      "provenance": []
    },
    "kernelspec": {
      "display_name": "Python 3",
      "name": "python3"
    },
    "language_info": {
      "name": "python"
    }
  },
  "nbformat": 4,
  "nbformat_minor": 0
}